{
  "nbformat": 4,
  "nbformat_minor": 0,
  "metadata": {
    "colab": {
      "provenance": [],
      "collapsed_sections": [
        "2pW8ZQ_44eES",
        "ZVTfhM6d4irr"
      ]
    },
    "kernelspec": {
      "name": "python3",
      "display_name": "Python 3"
    },
    "language_info": {
      "name": "python"
    }
  },
  "cells": [
    {
      "cell_type": "markdown",
      "source": [
        "#Langgraph Editor Notebook"
      ],
      "metadata": {
        "id": "FgfQoLI-43AX"
      }
    },
    {
      "cell_type": "markdown",
      "source": [
        "##prepare files"
      ],
      "metadata": {
        "id": "2pW8ZQ_44eES"
      }
    },
    {
      "cell_type": "code",
      "source": [
        "#@title clone repository\n",
        "!git clone https://github.com/Erickrus/langgraph-editor"
      ],
      "metadata": {
        "colab": {
          "base_uri": "https://localhost:8080/"
        },
        "cellView": "form",
        "id": "pTVqdr4z361H",
        "outputId": "dc939127-9252-46f7-9c0b-a78945be70be"
      },
      "execution_count": 1,
      "outputs": [
        {
          "output_type": "stream",
          "name": "stdout",
          "text": [
            "Cloning into 'langgraph-editor'...\n",
            "remote: Enumerating objects: 35, done.\u001b[K\n",
            "remote: Counting objects: 100% (35/35), done.\u001b[K\n",
            "remote: Compressing objects: 100% (31/31), done.\u001b[K\n",
            "remote: Total 35 (delta 14), reused 0 (delta 0), pack-reused 0\u001b[K\n",
            "Receiving objects: 100% (35/35), 193.47 KiB | 4.84 MiB/s, done.\n",
            "Resolving deltas: 100% (14/14), done.\n"
          ]
        }
      ]
    },
    {
      "cell_type": "markdown",
      "source": [
        "##start service"
      ],
      "metadata": {
        "id": "ZVTfhM6d4irr"
      }
    },
    {
      "cell_type": "markdown",
      "source": [
        "You may need setup your ngrok account and obtain NGROK_AUTH_TOKEN and NGROK_BEARER_API_KEY"
      ],
      "metadata": {
        "id": "oTOHWY629D90"
      }
    },
    {
      "cell_type": "code",
      "source": [
        "#@title define ngrok api\n",
        "#@markdown\n",
        "import json\n",
        "import os\n",
        "import subprocess\n",
        "\n",
        "class Ngrok:\n",
        "    # https://ngrok.com/docs/api/resources/tunnel-sessions/\n",
        "    def __init__(self, authToken, bearerApiKey):\n",
        "        self.authToken = authToken\n",
        "        self.bearerApiKey = bearerApiKey\n",
        "\n",
        "    def install(self):\n",
        "        cmd = (\n",
        "            \"curl -s https://ngrok-agent.s3.amazonaws.com/ngrok.asc | \"\n",
        "            \"tee /etc/apt/trusted.gpg.d/ngrok.asc >/dev/null && \"\n",
        "            'echo \"deb https://ngrok-agent.s3.amazonaws.com buster main\" | '\n",
        "            \"tee /etc/apt/sources.list.d/ngrok.list && \"\n",
        "            \"apt update -y && \"\n",
        "            \"apt install -y ngrok\"\n",
        "        )\n",
        "        try:\n",
        "            subprocess.run(cmd, shell=True, check=True)\n",
        "            #print(\"Command executed successfully.\")\n",
        "        except subprocess.CalledProcessError as e:\n",
        "            print(\"Error executing command:\", e)\n",
        "        return self\n",
        "\n",
        "    def authtoken(self):\n",
        "        os.system(\"ngrok authtoken %s\" % self.authToken)\n",
        "        return self\n",
        "\n",
        "    def list_session(self):\n",
        "        command = [\n",
        "            'curl', '-X', 'GET', '-H',\n",
        "            f'Authorization: Bearer {self.bearerApiKey}',\n",
        "            '-H', 'Ngrok-Version: 2',\n",
        "            'https://api.ngrok.com/tunnel_sessions'\n",
        "        ]\n",
        "        result = subprocess.run(command, capture_output=True, text=True)\n",
        "        output = json.loads(result.stdout)\n",
        "        #print(output)\n",
        "        session_id = \"\"\n",
        "        try:\n",
        "            session_id = output[\"tunnel_sessions\"][0][\"id\"]\n",
        "        except:\n",
        "            pass\n",
        "        return session_id\n",
        "\n",
        "    def stop_session(self, sessionId=None):\n",
        "        if type(sessionId) == type(None):\n",
        "            sessionId = self.list_session()\n",
        "\n",
        "        if sessionId == \"\":\n",
        "            return\n",
        "\n",
        "        command = [\n",
        "            'curl', '-X', 'POST', '-H',\n",
        "            f'Authorization: Bearer {self.bearerApiKey}',\n",
        "            '-H', 'Content-Type: application/json',\n",
        "            '-H', 'Ngrok-Version: 2',\n",
        "            '-d', '{}',\n",
        "            f'https://api.ngrok.com/tunnel_sessions/{sessionId}/stop'\n",
        "        ]\n",
        "        subprocess.run(command)\n",
        "\n",
        "    def get_ngrok_url(self):\n",
        "        try:\n",
        "            cmd = \"curl -s http://localhost:4040/api/tunnels 2>/dev/null\"\n",
        "            result = subprocess.run(cmd, shell=True, capture_output=True, text=True, check=True)\n",
        "            return json.loads(result.stdout)[\"tunnels\"][0][\"public_url\"]\n",
        "        except subprocess.CalledProcessError as e:\n",
        "            #print(\"Error executing command:\", e)\n",
        "            return \"\"\n",
        "\n",
        "from getpass import getpass\n",
        "\n",
        "NGROK_AUTH_TOKEN = getpass(prompt=\"NGROK_AUTH_TOKEN:\")\n",
        "NGROK_BEARER_API_KEY = getpass(prompt=\"NGROK_BEARER_API_KEY:\")\n",
        "ngrok = Ngrok(NGROK_AUTH_TOKEN, NGROK_BEARER_API_KEY)\n",
        "ngrok = ngrok.install().authtoken()"
      ],
      "metadata": {
        "colab": {
          "base_uri": "https://localhost:8080/"
        },
        "cellView": "form",
        "id": "uzKEdhE9uhd0",
        "outputId": "fb597aad-6a71-4e1b-ed1a-86cde5d30e92"
      },
      "execution_count": 2,
      "outputs": [
        {
          "name": "stdout",
          "output_type": "stream",
          "text": [
            "NGROK_AUTH_TOKEN:··········\n",
            "NGROK_BEARER_API_KEY:··········\n"
          ]
        }
      ]
    },
    {
      "cell_type": "code",
      "source": [
        "#@title start tornado service\n",
        "%cd /content/langgraph-editor\n",
        "!nohup python3 langgraph_editor.py &\n",
        "%cd /content\n",
        "ngrok.stop_session()\n",
        "!sleep 5\n",
        "!nohup ngrok http 8082 &\n",
        "!sleep 15\n",
        "print(ngrok.get_ngrok_url())"
      ],
      "metadata": {
        "cellView": "form",
        "id": "rI7rv183uDYW"
      },
      "execution_count": null,
      "outputs": []
    },
    {
      "cell_type": "markdown",
      "source": [
        "##Edit langgraph"
      ],
      "metadata": {
        "id": "skWwKuJJ4wQJ"
      }
    },
    {
      "cell_type": "code",
      "source": [
        "#@title langgraph-editor\n",
        "#@markdown\n",
        "from IPython.display import IFrame\n",
        "import time\n",
        "\n",
        "time.sleep(5)\n",
        "iframeUrl = ngrok.get_ngrok_url() + \"/static/index.html\"\n",
        "IFrame(src=iframeUrl, width=1080, height=600)"
      ],
      "metadata": {
        "colab": {
          "base_uri": "https://localhost:8080/",
          "height": 621
        },
        "cellView": "form",
        "id": "ZsQQt3NBys8a",
        "outputId": "2e744760-c8f3-4ab2-e572-d049575d28c1"
      },
      "execution_count": 4,
      "outputs": [
        {
          "output_type": "execute_result",
          "data": {
            "text/plain": [
              "<IPython.lib.display.IFrame at 0x7c3a0711ee60>"
            ],
            "text/html": [
              "\n",
              "        <iframe\n",
              "            width=\"1080\"\n",
              "            height=\"600\"\n",
              "            src=\"https://4809-34-23-145-37.ngrok-free.app/static/index.html\"\n",
              "            frameborder=\"0\"\n",
              "            allowfullscreen\n",
              "            \n",
              "        ></iframe>\n",
              "        "
            ]
          },
          "metadata": {},
          "execution_count": 4
        }
      ]
    },
    {
      "cell_type": "code",
      "source": [
        "#@title show codes\n",
        "#@markdown You need click menu \"Compile\" to get the output python code in your notebook.\n",
        "#@markdown\n",
        "#@markdown The output code will be stored in /content/output.py\n",
        "!cat /content/output.py"
      ],
      "metadata": {
        "colab": {
          "base_uri": "https://localhost:8080/"
        },
        "cellView": "form",
        "id": "c4Wh1LH54l1Z",
        "outputId": "409fbcd0-315a-4276-86b5-13d52c16111f"
      },
      "execution_count": 5,
      "outputs": [
        {
          "output_type": "stream",
          "name": "stdout",
          "text": [
            "from langgraph.graph import END, StateGraph\n",
            "workflow = StateGraph(GraphState)\n",
            "\n",
            "# Define the nodes\n",
            "workflow.add_node(\"query\", query) # query\n",
            "workflow.add_node(\"web_search\", web_search) # web_search\n",
            "\n",
            "# Build graph\n",
            "workflow.add_conditional_edge(\n",
            "    \"query\",\n",
            "    decide,\n",
            "    {\n",
            "        \"end\": END, \n",
            "        \"web_search\": \"web_search\", \n",
            "\n",
            "    })\n",
            "workflow.set_entry_point(\"query\")\n",
            "\n",
            "# Compile\n",
            "app = workflow.compile()"
          ]
        }
      ]
    }
  ]
}